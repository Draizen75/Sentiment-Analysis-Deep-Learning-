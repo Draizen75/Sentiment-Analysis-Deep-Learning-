{
  "cells": [
    {
      "cell_type": "code",
      "execution_count": 1,
      "metadata": {
        "execution": {
          "iopub.execute_input": "2024-05-16T08:48:41.537599Z",
          "iopub.status.busy": "2024-05-16T08:48:41.537242Z",
          "iopub.status.idle": "2024-05-16T08:48:57.069757Z",
          "shell.execute_reply": "2024-05-16T08:48:57.068913Z",
          "shell.execute_reply.started": "2024-05-16T08:48:41.537569Z"
        },
        "id": "FrrGT5OimGJ6",
        "trusted": true
      },
      "outputs": [],
      "source": [
        "import pandas as pd\n",
        "import numpy as np\n",
        "import matplotlib.pyplot as plt\n",
        "import re\n",
        "import nltk\n",
        "from nltk.corpus import stopwords\n",
        "from numpy import array\n",
        "\n",
        "from tensorflow import keras\n",
        "from tensorflow.keras.preprocessing.text import Tokenizer\n",
        "from keras.preprocessing.sequence import pad_sequences\n",
        "from keras.models import Sequential\n",
        "from keras.layers import Activation, Dropout, Dense\n",
        "from keras.layers import Flatten, GlobalMaxPooling1D, Embedding, Conv1D, LSTM\n",
        "from sklearn.model_selection import train_test_split"
      ]
    },
    {
      "cell_type": "code",
      "source": [
        "from google.colab import drive\n",
        "drive.mount('/content/drive')"
      ],
      "metadata": {
        "colab": {
          "base_uri": "https://localhost:8080/"
        },
        "id": "HPB_RL4lL1hV",
        "outputId": "c9a407ed-cec4-48fb-9c4a-2be2e2ab2835"
      },
      "execution_count": 2,
      "outputs": [
        {
          "output_type": "stream",
          "name": "stdout",
          "text": [
            "Mounted at /content/drive\n"
          ]
        }
      ]
    },
    {
      "cell_type": "code",
      "execution_count": 5,
      "metadata": {
        "execution": {
          "iopub.execute_input": "2024-05-16T08:48:57.071879Z",
          "iopub.status.busy": "2024-05-16T08:48:57.071331Z",
          "iopub.status.idle": "2024-05-16T08:48:57.771396Z",
          "shell.execute_reply": "2024-05-16T08:48:57.770630Z",
          "shell.execute_reply.started": "2024-05-16T08:48:57.071852Z"
        },
        "id": "YCesTsstncSJ",
        "trusted": true
      },
      "outputs": [],
      "source": [
        "df = pd.read_csv(\"/content/drive/MyDrive/project data/output.csv\")"
      ]
    },
    {
      "cell_type": "markdown",
      "metadata": {
        "id": "Pmv-wUVdxe-q"
      },
      "source": [
        "##Peforming EDA"
      ]
    },
    {
      "cell_type": "code",
      "execution_count": 6,
      "metadata": {
        "colab": {
          "base_uri": "https://localhost:8080/",
          "height": 206
        },
        "execution": {
          "iopub.execute_input": "2024-05-16T08:48:57.772824Z",
          "iopub.status.busy": "2024-05-16T08:48:57.772535Z",
          "iopub.status.idle": "2024-05-16T08:48:57.792213Z",
          "shell.execute_reply": "2024-05-16T08:48:57.791324Z",
          "shell.execute_reply.started": "2024-05-16T08:48:57.772800Z"
        },
        "id": "f1WXam86neX1",
        "outputId": "9340961e-a8ae-4793-f233-6915bf414035",
        "trusted": true
      },
      "outputs": [
        {
          "output_type": "execute_result",
          "data": {
            "text/plain": [
              "   Unnamed: 0                                               Text  Emotion\n",
              "0           0                            i didnt feel humiliated  sadness\n",
              "1           1  i can go from feeling so hopeless to so damned...  sadness\n",
              "2           2   im grabbing a minute to post i feel greedy wrong    anger\n",
              "3           3  i am ever feeling nostalgic about the fireplac...     love\n",
              "4           4                               i am feeling grouchy    anger"
            ],
            "text/html": [
              "\n",
              "  <div id=\"df-32edf85b-00a9-458c-8ae1-4c615bb0db4b\" class=\"colab-df-container\">\n",
              "    <div>\n",
              "<style scoped>\n",
              "    .dataframe tbody tr th:only-of-type {\n",
              "        vertical-align: middle;\n",
              "    }\n",
              "\n",
              "    .dataframe tbody tr th {\n",
              "        vertical-align: top;\n",
              "    }\n",
              "\n",
              "    .dataframe thead th {\n",
              "        text-align: right;\n",
              "    }\n",
              "</style>\n",
              "<table border=\"1\" class=\"dataframe\">\n",
              "  <thead>\n",
              "    <tr style=\"text-align: right;\">\n",
              "      <th></th>\n",
              "      <th>Unnamed: 0</th>\n",
              "      <th>Text</th>\n",
              "      <th>Emotion</th>\n",
              "    </tr>\n",
              "  </thead>\n",
              "  <tbody>\n",
              "    <tr>\n",
              "      <th>0</th>\n",
              "      <td>0</td>\n",
              "      <td>i didnt feel humiliated</td>\n",
              "      <td>sadness</td>\n",
              "    </tr>\n",
              "    <tr>\n",
              "      <th>1</th>\n",
              "      <td>1</td>\n",
              "      <td>i can go from feeling so hopeless to so damned...</td>\n",
              "      <td>sadness</td>\n",
              "    </tr>\n",
              "    <tr>\n",
              "      <th>2</th>\n",
              "      <td>2</td>\n",
              "      <td>im grabbing a minute to post i feel greedy wrong</td>\n",
              "      <td>anger</td>\n",
              "    </tr>\n",
              "    <tr>\n",
              "      <th>3</th>\n",
              "      <td>3</td>\n",
              "      <td>i am ever feeling nostalgic about the fireplac...</td>\n",
              "      <td>love</td>\n",
              "    </tr>\n",
              "    <tr>\n",
              "      <th>4</th>\n",
              "      <td>4</td>\n",
              "      <td>i am feeling grouchy</td>\n",
              "      <td>anger</td>\n",
              "    </tr>\n",
              "  </tbody>\n",
              "</table>\n",
              "</div>\n",
              "    <div class=\"colab-df-buttons\">\n",
              "\n",
              "  <div class=\"colab-df-container\">\n",
              "    <button class=\"colab-df-convert\" onclick=\"convertToInteractive('df-32edf85b-00a9-458c-8ae1-4c615bb0db4b')\"\n",
              "            title=\"Convert this dataframe to an interactive table.\"\n",
              "            style=\"display:none;\">\n",
              "\n",
              "  <svg xmlns=\"http://www.w3.org/2000/svg\" height=\"24px\" viewBox=\"0 -960 960 960\">\n",
              "    <path d=\"M120-120v-720h720v720H120Zm60-500h600v-160H180v160Zm220 220h160v-160H400v160Zm0 220h160v-160H400v160ZM180-400h160v-160H180v160Zm440 0h160v-160H620v160ZM180-180h160v-160H180v160Zm440 0h160v-160H620v160Z\"/>\n",
              "  </svg>\n",
              "    </button>\n",
              "\n",
              "  <style>\n",
              "    .colab-df-container {\n",
              "      display:flex;\n",
              "      gap: 12px;\n",
              "    }\n",
              "\n",
              "    .colab-df-convert {\n",
              "      background-color: #E8F0FE;\n",
              "      border: none;\n",
              "      border-radius: 50%;\n",
              "      cursor: pointer;\n",
              "      display: none;\n",
              "      fill: #1967D2;\n",
              "      height: 32px;\n",
              "      padding: 0 0 0 0;\n",
              "      width: 32px;\n",
              "    }\n",
              "\n",
              "    .colab-df-convert:hover {\n",
              "      background-color: #E2EBFA;\n",
              "      box-shadow: 0px 1px 2px rgba(60, 64, 67, 0.3), 0px 1px 3px 1px rgba(60, 64, 67, 0.15);\n",
              "      fill: #174EA6;\n",
              "    }\n",
              "\n",
              "    .colab-df-buttons div {\n",
              "      margin-bottom: 4px;\n",
              "    }\n",
              "\n",
              "    [theme=dark] .colab-df-convert {\n",
              "      background-color: #3B4455;\n",
              "      fill: #D2E3FC;\n",
              "    }\n",
              "\n",
              "    [theme=dark] .colab-df-convert:hover {\n",
              "      background-color: #434B5C;\n",
              "      box-shadow: 0px 1px 3px 1px rgba(0, 0, 0, 0.15);\n",
              "      filter: drop-shadow(0px 1px 2px rgba(0, 0, 0, 0.3));\n",
              "      fill: #FFFFFF;\n",
              "    }\n",
              "  </style>\n",
              "\n",
              "    <script>\n",
              "      const buttonEl =\n",
              "        document.querySelector('#df-32edf85b-00a9-458c-8ae1-4c615bb0db4b button.colab-df-convert');\n",
              "      buttonEl.style.display =\n",
              "        google.colab.kernel.accessAllowed ? 'block' : 'none';\n",
              "\n",
              "      async function convertToInteractive(key) {\n",
              "        const element = document.querySelector('#df-32edf85b-00a9-458c-8ae1-4c615bb0db4b');\n",
              "        const dataTable =\n",
              "          await google.colab.kernel.invokeFunction('convertToInteractive',\n",
              "                                                    [key], {});\n",
              "        if (!dataTable) return;\n",
              "\n",
              "        const docLinkHtml = 'Like what you see? Visit the ' +\n",
              "          '<a target=\"_blank\" href=https://colab.research.google.com/notebooks/data_table.ipynb>data table notebook</a>'\n",
              "          + ' to learn more about interactive tables.';\n",
              "        element.innerHTML = '';\n",
              "        dataTable['output_type'] = 'display_data';\n",
              "        await google.colab.output.renderOutput(dataTable, element);\n",
              "        const docLink = document.createElement('div');\n",
              "        docLink.innerHTML = docLinkHtml;\n",
              "        element.appendChild(docLink);\n",
              "      }\n",
              "    </script>\n",
              "  </div>\n",
              "\n",
              "\n",
              "<div id=\"df-67244445-698a-449f-bba2-45984e99007a\">\n",
              "  <button class=\"colab-df-quickchart\" onclick=\"quickchart('df-67244445-698a-449f-bba2-45984e99007a')\"\n",
              "            title=\"Suggest charts\"\n",
              "            style=\"display:none;\">\n",
              "\n",
              "<svg xmlns=\"http://www.w3.org/2000/svg\" height=\"24px\"viewBox=\"0 0 24 24\"\n",
              "     width=\"24px\">\n",
              "    <g>\n",
              "        <path d=\"M19 3H5c-1.1 0-2 .9-2 2v14c0 1.1.9 2 2 2h14c1.1 0 2-.9 2-2V5c0-1.1-.9-2-2-2zM9 17H7v-7h2v7zm4 0h-2V7h2v10zm4 0h-2v-4h2v4z\"/>\n",
              "    </g>\n",
              "</svg>\n",
              "  </button>\n",
              "\n",
              "<style>\n",
              "  .colab-df-quickchart {\n",
              "      --bg-color: #E8F0FE;\n",
              "      --fill-color: #1967D2;\n",
              "      --hover-bg-color: #E2EBFA;\n",
              "      --hover-fill-color: #174EA6;\n",
              "      --disabled-fill-color: #AAA;\n",
              "      --disabled-bg-color: #DDD;\n",
              "  }\n",
              "\n",
              "  [theme=dark] .colab-df-quickchart {\n",
              "      --bg-color: #3B4455;\n",
              "      --fill-color: #D2E3FC;\n",
              "      --hover-bg-color: #434B5C;\n",
              "      --hover-fill-color: #FFFFFF;\n",
              "      --disabled-bg-color: #3B4455;\n",
              "      --disabled-fill-color: #666;\n",
              "  }\n",
              "\n",
              "  .colab-df-quickchart {\n",
              "    background-color: var(--bg-color);\n",
              "    border: none;\n",
              "    border-radius: 50%;\n",
              "    cursor: pointer;\n",
              "    display: none;\n",
              "    fill: var(--fill-color);\n",
              "    height: 32px;\n",
              "    padding: 0;\n",
              "    width: 32px;\n",
              "  }\n",
              "\n",
              "  .colab-df-quickchart:hover {\n",
              "    background-color: var(--hover-bg-color);\n",
              "    box-shadow: 0 1px 2px rgba(60, 64, 67, 0.3), 0 1px 3px 1px rgba(60, 64, 67, 0.15);\n",
              "    fill: var(--button-hover-fill-color);\n",
              "  }\n",
              "\n",
              "  .colab-df-quickchart-complete:disabled,\n",
              "  .colab-df-quickchart-complete:disabled:hover {\n",
              "    background-color: var(--disabled-bg-color);\n",
              "    fill: var(--disabled-fill-color);\n",
              "    box-shadow: none;\n",
              "  }\n",
              "\n",
              "  .colab-df-spinner {\n",
              "    border: 2px solid var(--fill-color);\n",
              "    border-color: transparent;\n",
              "    border-bottom-color: var(--fill-color);\n",
              "    animation:\n",
              "      spin 1s steps(1) infinite;\n",
              "  }\n",
              "\n",
              "  @keyframes spin {\n",
              "    0% {\n",
              "      border-color: transparent;\n",
              "      border-bottom-color: var(--fill-color);\n",
              "      border-left-color: var(--fill-color);\n",
              "    }\n",
              "    20% {\n",
              "      border-color: transparent;\n",
              "      border-left-color: var(--fill-color);\n",
              "      border-top-color: var(--fill-color);\n",
              "    }\n",
              "    30% {\n",
              "      border-color: transparent;\n",
              "      border-left-color: var(--fill-color);\n",
              "      border-top-color: var(--fill-color);\n",
              "      border-right-color: var(--fill-color);\n",
              "    }\n",
              "    40% {\n",
              "      border-color: transparent;\n",
              "      border-right-color: var(--fill-color);\n",
              "      border-top-color: var(--fill-color);\n",
              "    }\n",
              "    60% {\n",
              "      border-color: transparent;\n",
              "      border-right-color: var(--fill-color);\n",
              "    }\n",
              "    80% {\n",
              "      border-color: transparent;\n",
              "      border-right-color: var(--fill-color);\n",
              "      border-bottom-color: var(--fill-color);\n",
              "    }\n",
              "    90% {\n",
              "      border-color: transparent;\n",
              "      border-bottom-color: var(--fill-color);\n",
              "    }\n",
              "  }\n",
              "</style>\n",
              "\n",
              "  <script>\n",
              "    async function quickchart(key) {\n",
              "      const quickchartButtonEl =\n",
              "        document.querySelector('#' + key + ' button');\n",
              "      quickchartButtonEl.disabled = true;  // To prevent multiple clicks.\n",
              "      quickchartButtonEl.classList.add('colab-df-spinner');\n",
              "      try {\n",
              "        const charts = await google.colab.kernel.invokeFunction(\n",
              "            'suggestCharts', [key], {});\n",
              "      } catch (error) {\n",
              "        console.error('Error during call to suggestCharts:', error);\n",
              "      }\n",
              "      quickchartButtonEl.classList.remove('colab-df-spinner');\n",
              "      quickchartButtonEl.classList.add('colab-df-quickchart-complete');\n",
              "    }\n",
              "    (() => {\n",
              "      let quickchartButtonEl =\n",
              "        document.querySelector('#df-67244445-698a-449f-bba2-45984e99007a button');\n",
              "      quickchartButtonEl.style.display =\n",
              "        google.colab.kernel.accessAllowed ? 'block' : 'none';\n",
              "    })();\n",
              "  </script>\n",
              "</div>\n",
              "\n",
              "    </div>\n",
              "  </div>\n"
            ],
            "application/vnd.google.colaboratory.intrinsic+json": {
              "type": "dataframe",
              "variable_name": "df"
            }
          },
          "metadata": {},
          "execution_count": 6
        }
      ],
      "source": [
        "df.head()"
      ]
    },
    {
      "cell_type": "code",
      "execution_count": 7,
      "metadata": {
        "colab": {
          "base_uri": "https://localhost:8080/"
        },
        "execution": {
          "iopub.execute_input": "2024-05-16T08:48:57.794315Z",
          "iopub.status.busy": "2024-05-16T08:48:57.794044Z",
          "iopub.status.idle": "2024-05-16T08:48:57.799566Z",
          "shell.execute_reply": "2024-05-16T08:48:57.798660Z",
          "shell.execute_reply.started": "2024-05-16T08:48:57.794292Z"
        },
        "id": "7Wg8W9J8ne72",
        "outputId": "e3cc0891-b296-438d-a951-124c98cad5d1",
        "trusted": true
      },
      "outputs": [
        {
          "output_type": "execute_result",
          "data": {
            "text/plain": [
              "(222450, 3)"
            ]
          },
          "metadata": {},
          "execution_count": 7
        }
      ],
      "source": [
        "df.shape"
      ]
    },
    {
      "cell_type": "code",
      "execution_count": 8,
      "metadata": {
        "colab": {
          "base_uri": "https://localhost:8080/"
        },
        "execution": {
          "iopub.execute_input": "2024-05-16T08:48:57.800990Z",
          "iopub.status.busy": "2024-05-16T08:48:57.800685Z",
          "iopub.status.idle": "2024-05-16T08:48:57.870956Z",
          "shell.execute_reply": "2024-05-16T08:48:57.870074Z",
          "shell.execute_reply.started": "2024-05-16T08:48:57.800961Z"
        },
        "id": "Ne2uIvndnfjQ",
        "outputId": "74771d1c-4526-4fc5-f565-f02ca779f550",
        "trusted": true
      },
      "outputs": [
        {
          "output_type": "stream",
          "name": "stdout",
          "text": [
            "<class 'pandas.core.frame.DataFrame'>\n",
            "RangeIndex: 222450 entries, 0 to 222449\n",
            "Data columns (total 3 columns):\n",
            " #   Column      Non-Null Count   Dtype \n",
            "---  ------      --------------   ----- \n",
            " 0   Unnamed: 0  222450 non-null  int64 \n",
            " 1   Text        222450 non-null  object\n",
            " 2   Emotion     222450 non-null  object\n",
            "dtypes: int64(1), object(2)\n",
            "memory usage: 5.1+ MB\n"
          ]
        }
      ],
      "source": [
        "df.info()"
      ]
    },
    {
      "cell_type": "code",
      "execution_count": 9,
      "metadata": {
        "colab": {
          "base_uri": "https://localhost:8080/"
        },
        "execution": {
          "iopub.execute_input": "2024-05-16T08:48:57.872602Z",
          "iopub.status.busy": "2024-05-16T08:48:57.872226Z",
          "iopub.status.idle": "2024-05-16T08:48:57.932927Z",
          "shell.execute_reply": "2024-05-16T08:48:57.931774Z",
          "shell.execute_reply.started": "2024-05-16T08:48:57.872570Z"
        },
        "id": "r-5n7VYingGz",
        "outputId": "a3638590-a130-40ea-c1aa-d2ef4b862002",
        "trusted": true
      },
      "outputs": [
        {
          "output_type": "execute_result",
          "data": {
            "text/plain": [
              "Unnamed: 0    0\n",
              "Text          0\n",
              "Emotion       0\n",
              "dtype: int64"
            ]
          },
          "metadata": {},
          "execution_count": 9
        }
      ],
      "source": [
        "df.isnull().sum()"
      ]
    },
    {
      "cell_type": "code",
      "execution_count": 10,
      "metadata": {
        "colab": {
          "base_uri": "https://localhost:8080/"
        },
        "execution": {
          "iopub.execute_input": "2024-05-16T08:48:57.935163Z",
          "iopub.status.busy": "2024-05-16T08:48:57.934374Z",
          "iopub.status.idle": "2024-05-16T08:48:58.035501Z",
          "shell.execute_reply": "2024-05-16T08:48:58.034546Z",
          "shell.execute_reply.started": "2024-05-16T08:48:57.935131Z"
        },
        "id": "B0uJ1KP1nhHD",
        "outputId": "e9eb7b84-9927-4b67-c025-2efd84585d90",
        "trusted": true
      },
      "outputs": [
        {
          "output_type": "execute_result",
          "data": {
            "text/plain": [
              "16000"
            ]
          },
          "metadata": {},
          "execution_count": 10
        }
      ],
      "source": [
        "df.duplicated().sum()"
      ]
    },
    {
      "cell_type": "code",
      "execution_count": 11,
      "metadata": {
        "execution": {
          "iopub.execute_input": "2024-05-16T08:48:58.036887Z",
          "iopub.status.busy": "2024-05-16T08:48:58.036593Z",
          "iopub.status.idle": "2024-05-16T08:48:58.137217Z",
          "shell.execute_reply": "2024-05-16T08:48:58.136252Z",
          "shell.execute_reply.started": "2024-05-16T08:48:58.036862Z"
        },
        "id": "V1ltpviWnj1i",
        "trusted": true
      },
      "outputs": [],
      "source": [
        "df.drop_duplicates(inplace=True)"
      ]
    },
    {
      "cell_type": "code",
      "execution_count": 12,
      "metadata": {
        "colab": {
          "base_uri": "https://localhost:8080/",
          "height": 206
        },
        "execution": {
          "iopub.execute_input": "2024-05-16T08:48:58.152765Z",
          "iopub.status.busy": "2024-05-16T08:48:58.152466Z",
          "iopub.status.idle": "2024-05-16T08:48:58.162099Z",
          "shell.execute_reply": "2024-05-16T08:48:58.161163Z",
          "shell.execute_reply.started": "2024-05-16T08:48:58.152741Z"
        },
        "id": "Yn3FJEiDoEKb",
        "outputId": "95a319e2-dda2-46b4-b03a-c630f18fb0f7",
        "trusted": true
      },
      "outputs": [
        {
          "output_type": "execute_result",
          "data": {
            "text/plain": [
              "   Unnamed: 0                                               Text  Emotion\n",
              "0           0                            i didnt feel humiliated  sadness\n",
              "1           1  i can go from feeling so hopeless to so damned...  sadness\n",
              "2           2   im grabbing a minute to post i feel greedy wrong    anger\n",
              "3           3  i am ever feeling nostalgic about the fireplac...     love\n",
              "4           4                               i am feeling grouchy    anger"
            ],
            "text/html": [
              "\n",
              "  <div id=\"df-4ce32031-1211-4fbb-b348-f042738fc0ab\" class=\"colab-df-container\">\n",
              "    <div>\n",
              "<style scoped>\n",
              "    .dataframe tbody tr th:only-of-type {\n",
              "        vertical-align: middle;\n",
              "    }\n",
              "\n",
              "    .dataframe tbody tr th {\n",
              "        vertical-align: top;\n",
              "    }\n",
              "\n",
              "    .dataframe thead th {\n",
              "        text-align: right;\n",
              "    }\n",
              "</style>\n",
              "<table border=\"1\" class=\"dataframe\">\n",
              "  <thead>\n",
              "    <tr style=\"text-align: right;\">\n",
              "      <th></th>\n",
              "      <th>Unnamed: 0</th>\n",
              "      <th>Text</th>\n",
              "      <th>Emotion</th>\n",
              "    </tr>\n",
              "  </thead>\n",
              "  <tbody>\n",
              "    <tr>\n",
              "      <th>0</th>\n",
              "      <td>0</td>\n",
              "      <td>i didnt feel humiliated</td>\n",
              "      <td>sadness</td>\n",
              "    </tr>\n",
              "    <tr>\n",
              "      <th>1</th>\n",
              "      <td>1</td>\n",
              "      <td>i can go from feeling so hopeless to so damned...</td>\n",
              "      <td>sadness</td>\n",
              "    </tr>\n",
              "    <tr>\n",
              "      <th>2</th>\n",
              "      <td>2</td>\n",
              "      <td>im grabbing a minute to post i feel greedy wrong</td>\n",
              "      <td>anger</td>\n",
              "    </tr>\n",
              "    <tr>\n",
              "      <th>3</th>\n",
              "      <td>3</td>\n",
              "      <td>i am ever feeling nostalgic about the fireplac...</td>\n",
              "      <td>love</td>\n",
              "    </tr>\n",
              "    <tr>\n",
              "      <th>4</th>\n",
              "      <td>4</td>\n",
              "      <td>i am feeling grouchy</td>\n",
              "      <td>anger</td>\n",
              "    </tr>\n",
              "  </tbody>\n",
              "</table>\n",
              "</div>\n",
              "    <div class=\"colab-df-buttons\">\n",
              "\n",
              "  <div class=\"colab-df-container\">\n",
              "    <button class=\"colab-df-convert\" onclick=\"convertToInteractive('df-4ce32031-1211-4fbb-b348-f042738fc0ab')\"\n",
              "            title=\"Convert this dataframe to an interactive table.\"\n",
              "            style=\"display:none;\">\n",
              "\n",
              "  <svg xmlns=\"http://www.w3.org/2000/svg\" height=\"24px\" viewBox=\"0 -960 960 960\">\n",
              "    <path d=\"M120-120v-720h720v720H120Zm60-500h600v-160H180v160Zm220 220h160v-160H400v160Zm0 220h160v-160H400v160ZM180-400h160v-160H180v160Zm440 0h160v-160H620v160ZM180-180h160v-160H180v160Zm440 0h160v-160H620v160Z\"/>\n",
              "  </svg>\n",
              "    </button>\n",
              "\n",
              "  <style>\n",
              "    .colab-df-container {\n",
              "      display:flex;\n",
              "      gap: 12px;\n",
              "    }\n",
              "\n",
              "    .colab-df-convert {\n",
              "      background-color: #E8F0FE;\n",
              "      border: none;\n",
              "      border-radius: 50%;\n",
              "      cursor: pointer;\n",
              "      display: none;\n",
              "      fill: #1967D2;\n",
              "      height: 32px;\n",
              "      padding: 0 0 0 0;\n",
              "      width: 32px;\n",
              "    }\n",
              "\n",
              "    .colab-df-convert:hover {\n",
              "      background-color: #E2EBFA;\n",
              "      box-shadow: 0px 1px 2px rgba(60, 64, 67, 0.3), 0px 1px 3px 1px rgba(60, 64, 67, 0.15);\n",
              "      fill: #174EA6;\n",
              "    }\n",
              "\n",
              "    .colab-df-buttons div {\n",
              "      margin-bottom: 4px;\n",
              "    }\n",
              "\n",
              "    [theme=dark] .colab-df-convert {\n",
              "      background-color: #3B4455;\n",
              "      fill: #D2E3FC;\n",
              "    }\n",
              "\n",
              "    [theme=dark] .colab-df-convert:hover {\n",
              "      background-color: #434B5C;\n",
              "      box-shadow: 0px 1px 3px 1px rgba(0, 0, 0, 0.15);\n",
              "      filter: drop-shadow(0px 1px 2px rgba(0, 0, 0, 0.3));\n",
              "      fill: #FFFFFF;\n",
              "    }\n",
              "  </style>\n",
              "\n",
              "    <script>\n",
              "      const buttonEl =\n",
              "        document.querySelector('#df-4ce32031-1211-4fbb-b348-f042738fc0ab button.colab-df-convert');\n",
              "      buttonEl.style.display =\n",
              "        google.colab.kernel.accessAllowed ? 'block' : 'none';\n",
              "\n",
              "      async function convertToInteractive(key) {\n",
              "        const element = document.querySelector('#df-4ce32031-1211-4fbb-b348-f042738fc0ab');\n",
              "        const dataTable =\n",
              "          await google.colab.kernel.invokeFunction('convertToInteractive',\n",
              "                                                    [key], {});\n",
              "        if (!dataTable) return;\n",
              "\n",
              "        const docLinkHtml = 'Like what you see? Visit the ' +\n",
              "          '<a target=\"_blank\" href=https://colab.research.google.com/notebooks/data_table.ipynb>data table notebook</a>'\n",
              "          + ' to learn more about interactive tables.';\n",
              "        element.innerHTML = '';\n",
              "        dataTable['output_type'] = 'display_data';\n",
              "        await google.colab.output.renderOutput(dataTable, element);\n",
              "        const docLink = document.createElement('div');\n",
              "        docLink.innerHTML = docLinkHtml;\n",
              "        element.appendChild(docLink);\n",
              "      }\n",
              "    </script>\n",
              "  </div>\n",
              "\n",
              "\n",
              "<div id=\"df-89633581-ed48-46c8-9b37-e20a8a1ef133\">\n",
              "  <button class=\"colab-df-quickchart\" onclick=\"quickchart('df-89633581-ed48-46c8-9b37-e20a8a1ef133')\"\n",
              "            title=\"Suggest charts\"\n",
              "            style=\"display:none;\">\n",
              "\n",
              "<svg xmlns=\"http://www.w3.org/2000/svg\" height=\"24px\"viewBox=\"0 0 24 24\"\n",
              "     width=\"24px\">\n",
              "    <g>\n",
              "        <path d=\"M19 3H5c-1.1 0-2 .9-2 2v14c0 1.1.9 2 2 2h14c1.1 0 2-.9 2-2V5c0-1.1-.9-2-2-2zM9 17H7v-7h2v7zm4 0h-2V7h2v10zm4 0h-2v-4h2v4z\"/>\n",
              "    </g>\n",
              "</svg>\n",
              "  </button>\n",
              "\n",
              "<style>\n",
              "  .colab-df-quickchart {\n",
              "      --bg-color: #E8F0FE;\n",
              "      --fill-color: #1967D2;\n",
              "      --hover-bg-color: #E2EBFA;\n",
              "      --hover-fill-color: #174EA6;\n",
              "      --disabled-fill-color: #AAA;\n",
              "      --disabled-bg-color: #DDD;\n",
              "  }\n",
              "\n",
              "  [theme=dark] .colab-df-quickchart {\n",
              "      --bg-color: #3B4455;\n",
              "      --fill-color: #D2E3FC;\n",
              "      --hover-bg-color: #434B5C;\n",
              "      --hover-fill-color: #FFFFFF;\n",
              "      --disabled-bg-color: #3B4455;\n",
              "      --disabled-fill-color: #666;\n",
              "  }\n",
              "\n",
              "  .colab-df-quickchart {\n",
              "    background-color: var(--bg-color);\n",
              "    border: none;\n",
              "    border-radius: 50%;\n",
              "    cursor: pointer;\n",
              "    display: none;\n",
              "    fill: var(--fill-color);\n",
              "    height: 32px;\n",
              "    padding: 0;\n",
              "    width: 32px;\n",
              "  }\n",
              "\n",
              "  .colab-df-quickchart:hover {\n",
              "    background-color: var(--hover-bg-color);\n",
              "    box-shadow: 0 1px 2px rgba(60, 64, 67, 0.3), 0 1px 3px 1px rgba(60, 64, 67, 0.15);\n",
              "    fill: var(--button-hover-fill-color);\n",
              "  }\n",
              "\n",
              "  .colab-df-quickchart-complete:disabled,\n",
              "  .colab-df-quickchart-complete:disabled:hover {\n",
              "    background-color: var(--disabled-bg-color);\n",
              "    fill: var(--disabled-fill-color);\n",
              "    box-shadow: none;\n",
              "  }\n",
              "\n",
              "  .colab-df-spinner {\n",
              "    border: 2px solid var(--fill-color);\n",
              "    border-color: transparent;\n",
              "    border-bottom-color: var(--fill-color);\n",
              "    animation:\n",
              "      spin 1s steps(1) infinite;\n",
              "  }\n",
              "\n",
              "  @keyframes spin {\n",
              "    0% {\n",
              "      border-color: transparent;\n",
              "      border-bottom-color: var(--fill-color);\n",
              "      border-left-color: var(--fill-color);\n",
              "    }\n",
              "    20% {\n",
              "      border-color: transparent;\n",
              "      border-left-color: var(--fill-color);\n",
              "      border-top-color: var(--fill-color);\n",
              "    }\n",
              "    30% {\n",
              "      border-color: transparent;\n",
              "      border-left-color: var(--fill-color);\n",
              "      border-top-color: var(--fill-color);\n",
              "      border-right-color: var(--fill-color);\n",
              "    }\n",
              "    40% {\n",
              "      border-color: transparent;\n",
              "      border-right-color: var(--fill-color);\n",
              "      border-top-color: var(--fill-color);\n",
              "    }\n",
              "    60% {\n",
              "      border-color: transparent;\n",
              "      border-right-color: var(--fill-color);\n",
              "    }\n",
              "    80% {\n",
              "      border-color: transparent;\n",
              "      border-right-color: var(--fill-color);\n",
              "      border-bottom-color: var(--fill-color);\n",
              "    }\n",
              "    90% {\n",
              "      border-color: transparent;\n",
              "      border-bottom-color: var(--fill-color);\n",
              "    }\n",
              "  }\n",
              "</style>\n",
              "\n",
              "  <script>\n",
              "    async function quickchart(key) {\n",
              "      const quickchartButtonEl =\n",
              "        document.querySelector('#' + key + ' button');\n",
              "      quickchartButtonEl.disabled = true;  // To prevent multiple clicks.\n",
              "      quickchartButtonEl.classList.add('colab-df-spinner');\n",
              "      try {\n",
              "        const charts = await google.colab.kernel.invokeFunction(\n",
              "            'suggestCharts', [key], {});\n",
              "      } catch (error) {\n",
              "        console.error('Error during call to suggestCharts:', error);\n",
              "      }\n",
              "      quickchartButtonEl.classList.remove('colab-df-spinner');\n",
              "      quickchartButtonEl.classList.add('colab-df-quickchart-complete');\n",
              "    }\n",
              "    (() => {\n",
              "      let quickchartButtonEl =\n",
              "        document.querySelector('#df-89633581-ed48-46c8-9b37-e20a8a1ef133 button');\n",
              "      quickchartButtonEl.style.display =\n",
              "        google.colab.kernel.accessAllowed ? 'block' : 'none';\n",
              "    })();\n",
              "  </script>\n",
              "</div>\n",
              "\n",
              "    </div>\n",
              "  </div>\n"
            ],
            "application/vnd.google.colaboratory.intrinsic+json": {
              "type": "dataframe",
              "variable_name": "df"
            }
          },
          "metadata": {},
          "execution_count": 12
        }
      ],
      "source": [
        "df.head()"
      ]
    },
    {
      "cell_type": "code",
      "execution_count": 13,
      "metadata": {
        "colab": {
          "base_uri": "https://localhost:8080/",
          "height": 572
        },
        "execution": {
          "iopub.execute_input": "2024-05-16T08:48:58.163379Z",
          "iopub.status.busy": "2024-05-16T08:48:58.163105Z",
          "iopub.status.idle": "2024-05-16T08:48:58.443264Z",
          "shell.execute_reply": "2024-05-16T08:48:58.442426Z",
          "shell.execute_reply.started": "2024-05-16T08:48:58.163357Z"
        },
        "id": "EbU_0A9Gwg5Y",
        "outputId": "c329f272-1156-4f0d-e455-bbc7b05b46ae",
        "trusted": true
      },
      "outputs": [
        {
          "output_type": "execute_result",
          "data": {
            "text/plain": [
              "<Axes: xlabel='Emotion'>"
            ]
          },
          "metadata": {},
          "execution_count": 13
        },
        {
          "output_type": "display_data",
          "data": {
            "text/plain": [
              "<Figure size 640x480 with 1 Axes>"
            ],
            "image/png": "[encoded data removed]"
          },
          "metadata": {}
        }
      ],
      "source": [
        "df[\"Emotion\"].value_counts().plot(kind=\"bar\")"
      ]
    },
    {
      "cell_type": "markdown",
      "metadata": {
        "id": "3P5SqRDOxkg8"
      },
      "source": [
        "##Data Preprocessing"
      ]
    },
    {
      "cell_type": "code",
      "execution_count": 14,
      "metadata": {
        "colab": {
          "base_uri": "https://localhost:8080/",
          "height": 36
        },
        "execution": {
          "iopub.execute_input": "2024-05-16T08:48:58.444511Z",
          "iopub.status.busy": "2024-05-16T08:48:58.444231Z",
          "iopub.status.idle": "2024-05-16T08:48:58.457440Z",
          "shell.execute_reply": "2024-05-16T08:48:58.456381Z",
          "shell.execute_reply.started": "2024-05-16T08:48:58.444488Z"
        },
        "id": "DEbmUiiFBOcU",
        "outputId": "9cc4ccf4-32bc-4866-ee94-99778877cc35",
        "trusted": true
      },
      "outputs": [
        {
          "output_type": "execute_result",
          "data": {
            "text/plain": [
              "'i feel like i have to make the suffering i m seeing mean something'"
            ],
            "application/vnd.google.colaboratory.intrinsic+json": {
              "type": "string"
            }
          },
          "metadata": {},
          "execution_count": 14
        }
      ],
      "source": [
        "df[\"Text\"][10]"
      ]
    },
    {
      "cell_type": "code",
      "execution_count": 15,
      "metadata": {
        "execution": {
          "iopub.execute_input": "2024-05-16T08:48:58.458699Z",
          "iopub.status.busy": "2024-05-16T08:48:58.458452Z",
          "iopub.status.idle": "2024-05-16T08:48:58.465666Z",
          "shell.execute_reply": "2024-05-16T08:48:58.464752Z",
          "shell.execute_reply.started": "2024-05-16T08:48:58.458677Z"
        },
        "id": "VWTZZ4ZICdjk",
        "trusted": true
      },
      "outputs": [],
      "source": [
        "TAG_RE = re.compile(r'<[^>]+')\n",
        "\n",
        "def remove_tags(text):\n",
        "  \"\"\"Removes HTML tags: replaces anything between opening and closing  <> with empty space \"\"\"\n",
        "\n",
        "  return TAG_RE.sub('',text)"
      ]
    },
    {
      "cell_type": "code",
      "execution_count": 16,
      "metadata": {
        "colab": {
          "base_uri": "https://localhost:8080/"
        },
        "execution": {
          "iopub.execute_input": "2024-05-16T08:48:58.467037Z",
          "iopub.status.busy": "2024-05-16T08:48:58.466772Z",
          "iopub.status.idle": "2024-05-16T08:48:58.547539Z",
          "shell.execute_reply": "2024-05-16T08:48:58.546751Z",
          "shell.execute_reply.started": "2024-05-16T08:48:58.467016Z"
        },
        "id": "jvG_zd_2DJRs",
        "outputId": "21f0d2da-b0c5-44ec-aaf1-97233a7b6cec",
        "trusted": true
      },
      "outputs": [
        {
          "output_type": "stream",
          "name": "stderr",
          "text": [
            "[nltk_data] Downloading package stopwords to /root/nltk_data...\n",
            "[nltk_data]   Unzipping corpora/stopwords.zip.\n"
          ]
        },
        {
          "output_type": "execute_result",
          "data": {
            "text/plain": [
              "True"
            ]
          },
          "metadata": {},
          "execution_count": 16
        }
      ],
      "source": [
        "import nltk\n",
        "nltk.download(\"stopwords\")"
      ]
    },
    {
      "cell_type": "code",
      "execution_count": 17,
      "metadata": {
        "execution": {
          "iopub.execute_input": "2024-05-16T08:48:58.548750Z",
          "iopub.status.busy": "2024-05-16T08:48:58.548508Z",
          "iopub.status.idle": "2024-05-16T08:48:58.554837Z",
          "shell.execute_reply": "2024-05-16T08:48:58.554012Z",
          "shell.execute_reply.started": "2024-05-16T08:48:58.548729Z"
        },
        "id": "SEFe436cDMVw",
        "trusted": true
      },
      "outputs": [],
      "source": [
        "def preprocsses_text(sen):\n",
        "  \"\"\"Cleans text data up, leaving only 2 or more char long non-stepwords composed of A-Z & a-z only in lowercase\"\"\"\n",
        "\n",
        "  sentence = sen.lower()\n",
        "\n",
        "  #Removing html tags\n",
        "  sentence = remove_tags(sentence)\n",
        "\n",
        "  #Removing punctuations and numbers\n",
        "  sentence = re.sub('[^a-zA-Z]', ' ' , sentence)\n",
        "\n",
        "  #Single Character removal\n",
        "  sentence = re.sub(r\"\\s+[a-zA-Z]\\s+\" , ' ' ,sentence)  # When we remove apostrophe from the word \"Mark's , the apostrophe is replaced by an empty space. Hence, we are left with 2 words\"\n",
        "\n",
        "  #Remove multiple spaces\n",
        "  sentence = re.sub(r'\\s+', ' ', sentence) # we remove all the single characters and replace it by a space which create multiple spaces in our text\n",
        "\n",
        "\n",
        "  #Remove Stopwords\n",
        "  pattern = re.compile(r'\\b(' +r'|'.join(stopwords.words(\"english\")) +r')\\b\\s*')\n",
        "  sentence = pattern.sub('',sentence)\n",
        "\n",
        "  return sentence\n",
        "\n",
        "  #Removing stopwords\n",
        "  stop_words = set(stopwords.words('english'))"
      ]
    },
    {
      "cell_type": "code",
      "execution_count": 18,
      "metadata": {
        "execution": {
          "iopub.execute_input": "2024-05-16T08:48:58.556479Z",
          "iopub.status.busy": "2024-05-16T08:48:58.556223Z",
          "iopub.status.idle": "2024-05-16T08:49:33.112514Z",
          "shell.execute_reply": "2024-05-16T08:49:33.111489Z",
          "shell.execute_reply.started": "2024-05-16T08:48:58.556454Z"
        },
        "id": "VmnQ91b3Esac",
        "trusted": true
      },
      "outputs": [],
      "source": [
        "#Calling the preprocessing_text function on movie_reviews\n",
        "\n",
        "X = []\n",
        "sentences = list(df['Text'])\n",
        "for sen in sentences:\n",
        "  X.append(preprocsses_text(sen))\n",
        "X = np.array(X)"
      ]
    },
    {
      "cell_type": "code",
      "execution_count": 19,
      "metadata": {
        "colab": {
          "base_uri": "https://localhost:8080/",
          "height": 36
        },
        "execution": {
          "iopub.execute_input": "2024-05-16T08:49:33.114248Z",
          "iopub.status.busy": "2024-05-16T08:49:33.113872Z",
          "iopub.status.idle": "2024-05-16T08:49:33.120565Z",
          "shell.execute_reply": "2024-05-16T08:49:33.119242Z",
          "shell.execute_reply.started": "2024-05-16T08:49:33.114214Z"
        },
        "id": "kSbjZLQgFJcd",
        "outputId": "0ce90815-bff6-4d84-e831-c8e29c4bfb11",
        "trusted": true
      },
      "outputs": [
        {
          "output_type": "execute_result",
          "data": {
            "text/plain": [
              "'feel like make suffering seeing mean something'"
            ],
            "application/vnd.google.colaboratory.intrinsic+json": {
              "type": "string"
            }
          },
          "metadata": {},
          "execution_count": 19
        }
      ],
      "source": [
        "# Sample cleaned up movie review\n",
        "\n",
        "X[10]\n",
        "\n",
        "# As we shall use Word Embedding, Stemming/Lemmatization is not performed as a preprocessing step here"
      ]
    },
    {
      "cell_type": "code",
      "execution_count": 20,
      "metadata": {
        "execution": {
          "iopub.execute_input": "2024-05-16T08:49:33.122990Z",
          "iopub.status.busy": "2024-05-16T08:49:33.122168Z",
          "iopub.status.idle": "2024-05-16T08:49:33.190300Z",
          "shell.execute_reply": "2024-05-16T08:49:33.189389Z",
          "shell.execute_reply.started": "2024-05-16T08:49:33.122957Z"
        },
        "id": "MLWlT-U_FWmQ",
        "trusted": true
      },
      "outputs": [],
      "source": [
        "# # Converting sentiment labels to 0 and 1\n",
        "\n",
        "# y = df['sentiment']\n",
        "\n",
        "# y = np.array(list(map(lambda x: 1 if x==\"positive\" else 0,y)))\n",
        "\n",
        "from sklearn.preprocessing import LabelEncoder\n",
        "\n",
        "label_encoder = LabelEncoder()\n",
        "\n",
        "y = label_encoder.fit_transform(df['Emotion'])"
      ]
    },
    {
      "cell_type": "code",
      "execution_count": 21,
      "metadata": {
        "execution": {
          "iopub.execute_input": "2024-05-16T08:49:33.191728Z",
          "iopub.status.busy": "2024-05-16T08:49:33.191402Z",
          "iopub.status.idle": "2024-05-16T08:49:33.265062Z",
          "shell.execute_reply": "2024-05-16T08:49:33.264315Z",
          "shell.execute_reply.started": "2024-05-16T08:49:33.191703Z"
        },
        "id": "tUbznZlRF5-6",
        "trusted": true
      },
      "outputs": [],
      "source": [
        "X_train, X_test, y_train, y_test = train_test_split(X,y,test_size = 0.2, random_state=42)"
      ]
    },
    {
      "cell_type": "markdown",
      "metadata": {
        "id": "-SzazhTDGGN8"
      },
      "source": [
        "##Preparing Embedding layer"
      ]
    },
    {
      "cell_type": "markdown",
      "metadata": {
        "id": "vpTDOfFzHEs7"
      },
      "source": [
        "Let's now write the script for our embedding layer. Embedding layer convert our textual data into numeric form. It us then used as the first layer for the deep learning models in Keras."
      ]
    },
    {
      "cell_type": "code",
      "execution_count": 22,
      "metadata": {
        "execution": {
          "iopub.execute_input": "2024-05-16T08:49:33.266356Z",
          "iopub.status.busy": "2024-05-16T08:49:33.266095Z",
          "iopub.status.idle": "2024-05-16T08:49:39.072759Z",
          "shell.execute_reply": "2024-05-16T08:49:39.071727Z",
          "shell.execute_reply.started": "2024-05-16T08:49:33.266333Z"
        },
        "id": "s6SG-Z9FGEv5",
        "trusted": true
      },
      "outputs": [],
      "source": [
        "#Embedding layer expects the words to be in numeric form\n",
        "#using Toekenizer function from keras.preprocessing.text library\n",
        "#Method fit_on_text trains the tokenizer\n",
        "#Method texts_to_sequences converts sentences to their numeric form\n",
        "\n",
        "max_words = 10000\n",
        "word_tokenizer = Tokenizer(num_words=max_words)\n",
        "word_tokenizer.fit_on_texts(X_train)\n",
        "\n",
        "X_train = word_tokenizer.texts_to_sequences(X_train)\n",
        "X_test = word_tokenizer.texts_to_sequences(X_test)"
      ]
    },
    {
      "cell_type": "code",
      "execution_count": 23,
      "metadata": {
        "colab": {
          "base_uri": "https://localhost:8080/"
        },
        "execution": {
          "iopub.execute_input": "2024-05-16T08:49:39.074614Z",
          "iopub.status.busy": "2024-05-16T08:49:39.074213Z",
          "iopub.status.idle": "2024-05-16T08:49:39.081580Z",
          "shell.execute_reply": "2024-05-16T08:49:39.080182Z",
          "shell.execute_reply.started": "2024-05-16T08:49:39.074579Z"
        },
        "id": "PHXzi2fnHw7c",
        "outputId": "74dc515f-3315-4c25-d5c6-e67f347f9a3d",
        "trusted": true
      },
      "outputs": [
        {
          "output_type": "execute_result",
          "data": {
            "text/plain": [
              "73595"
            ]
          },
          "metadata": {},
          "execution_count": 23
        }
      ],
      "source": [
        "#Adding 1 to store dimensions for words for which no pretrained word embedding exist\n",
        "#Total unique words in the corpus\n",
        "vocab_length = len(word_tokenizer.word_index) +1\n",
        "vocab_length"
      ]
    },
    {
      "cell_type": "code",
      "execution_count": 24,
      "metadata": {
        "execution": {
          "iopub.execute_input": "2024-05-16T08:49:39.083244Z",
          "iopub.status.busy": "2024-05-16T08:49:39.082899Z",
          "iopub.status.idle": "2024-05-16T08:49:39.885023Z",
          "shell.execute_reply": "2024-05-16T08:49:39.884133Z",
          "shell.execute_reply.started": "2024-05-16T08:49:39.083215Z"
        },
        "id": "yTsfReWbIK3g",
        "trusted": true
      },
      "outputs": [],
      "source": [
        "# Padding all reviews to fixed length 100\n",
        "\n",
        "maxlen = 100\n",
        "X_train = pad_sequences(X_train,padding=\"post\",maxlen=maxlen)\n",
        "X_test = pad_sequences(X_test,padding=\"post\",maxlen=maxlen)"
      ]
    },
    {
      "cell_type": "code",
      "execution_count": 26,
      "metadata": {
        "execution": {
          "iopub.execute_input": "2024-05-16T08:49:39.886369Z",
          "iopub.status.busy": "2024-05-16T08:49:39.886106Z",
          "iopub.status.idle": "2024-05-16T08:49:52.458215Z",
          "shell.execute_reply": "2024-05-16T08:49:52.457465Z",
          "shell.execute_reply.started": "2024-05-16T08:49:39.886348Z"
        },
        "id": "RO6JgSIeIbNe",
        "trusted": true
      },
      "outputs": [],
      "source": [
        "#Load GloVe word Embeddings and create an Embeddings Dictionary\n",
        "\n",
        "from numpy import asarray\n",
        "from numpy import zeros\n",
        "\n",
        "embeddings_dictionary = dict()\n",
        "glove_file = open(\"/content/drive/MyDrive/project data/a2_glove.6B.100d.txt\",encoding=\"utf8\")\n",
        "\n",
        "for line in glove_file:\n",
        "  records = line.split()\n",
        "  word = records[0]\n",
        "  vector_dimensions = asarray(records[1:],dtype=\"float32\")\n",
        "  embeddings_dictionary[word] = vector_dimensions\n",
        "glove_file.close()"
      ]
    },
    {
      "cell_type": "code",
      "execution_count": 27,
      "metadata": {
        "execution": {
          "iopub.execute_input": "2024-05-16T08:49:52.459663Z",
          "iopub.status.busy": "2024-05-16T08:49:52.459317Z",
          "iopub.status.idle": "2024-05-16T08:49:52.591385Z",
          "shell.execute_reply": "2024-05-16T08:49:52.590593Z",
          "shell.execute_reply.started": "2024-05-16T08:49:52.459638Z"
        },
        "id": "tiEJKckPYEtG",
        "trusted": true
      },
      "outputs": [],
      "source": [
        "# Create Embedding Matrix having 100 columns\n",
        "# Containing 100-dimendsional GloVe word embeddings for all words in our corpus\n",
        "\n",
        "embedding_matrix = zeros((vocab_length,100))\n",
        "for word,index in word_tokenizer.word_index.items():\n",
        "  embedding_vector = embeddings_dictionary.get(word)\n",
        "  if embedding_vector is not None:\n",
        "    embedding_matrix[index] = embedding_vector"
      ]
    },
    {
      "cell_type": "code",
      "execution_count": 28,
      "metadata": {
        "colab": {
          "base_uri": "https://localhost:8080/"
        },
        "execution": {
          "iopub.execute_input": "2024-05-16T08:55:06.225841Z",
          "iopub.status.busy": "2024-05-16T08:55:06.225488Z",
          "iopub.status.idle": "2024-05-16T08:55:06.232141Z",
          "shell.execute_reply": "2024-05-16T08:55:06.231138Z",
          "shell.execute_reply.started": "2024-05-16T08:55:06.225814Z"
        },
        "id": "vdO5xiWOY8oi",
        "outputId": "80b79348-7803-48d0-aa1b-8a1d82f8b2b2",
        "trusted": true
      },
      "outputs": [
        {
          "output_type": "execute_result",
          "data": {
            "text/plain": [
              "(73595, 100)"
            ]
          },
          "metadata": {},
          "execution_count": 28
        }
      ],
      "source": [
        "embedding_matrix.shape"
      ]
    },
    {
      "cell_type": "code",
      "execution_count": 29,
      "metadata": {
        "execution": {
          "iopub.execute_input": "2024-05-16T09:36:18.215856Z",
          "iopub.status.busy": "2024-05-16T09:36:18.215098Z",
          "iopub.status.idle": "2024-05-16T09:36:18.296703Z",
          "shell.execute_reply": "2024-05-16T09:36:18.295470Z",
          "shell.execute_reply.started": "2024-05-16T09:36:18.215825Z"
        },
        "id": "uvB3Gelbivc4",
        "trusted": true
      },
      "outputs": [],
      "source": [
        "from tensorflow.keras.models import Sequential\n",
        "from tensorflow.keras.layers import Embedding, LSTM, Dense, Dropout, BatchNormalization\n",
        "\n",
        "# Initialize the LSTM model\n",
        "lstm_model = Sequential()\n",
        "\n",
        "# Add Embedding layer\n",
        "# embedding_layer = Embedding(input_dim = max_words,output_dim=100,input_length=maxlen)\n",
        "embedding_layer = Embedding(vocab_length,100,weights=[embedding_matrix],input_length=maxlen,trainable=True)\n",
        "lstm_model.add(embedding_layer)\n",
        "\n",
        "# Add LSTM layers with BatchNormalization and Dropout\n",
        "lstm_model.add(LSTM(units = 128, return_sequences=True))\n",
        "lstm_model.add(BatchNormalization())\n",
        "lstm_model.add(Dropout(0.2))\n",
        "\n",
        "# Add another LSTM layer with BatchNormalization and Dropout\n",
        "lstm_model.add(LSTM(64, return_sequences=True))\n",
        "lstm_model.add(BatchNormalization())\n",
        "lstm_model.add(Dropout(0.2))\n",
        "\n",
        "# Add another LSTM layer with BatchNormalization and Dropout\n",
        "lstm_model.add(LSTM(64))\n",
        "lstm_model.add(BatchNormalization())\n",
        "lstm_model.add(Dropout(0.2))\n",
        "\n",
        "# Add Dense layer with ReLU activation and BatchNormalization\n",
        "lstm_model.add(Dense(128, activation=\"relu\"))\n",
        "lstm_model.add(BatchNormalization())\n",
        "\n",
        "# Add Dropout for regularization\n",
        "lstm_model.add(Dropout(0.2))\n",
        "\n",
        "lstm_model.add(Dense(64, activation=\"relu\"))\n",
        "lstm_model.add(BatchNormalization())\n",
        "\n",
        "# Add Dropout for regularization\n",
        "lstm_model.add(Dropout(0.2))\n",
        "\n",
        "# Add output layer with softmax activation\n",
        "lstm_model.add(Dense(10, activation=\"softmax\"))"
      ]
    },
    {
      "cell_type": "code",
      "execution_count": 30,
      "metadata": {
        "execution": {
          "iopub.status.busy": "2024-05-16T08:49:53.513670Z",
          "iopub.status.idle": "2024-05-16T08:49:53.514004Z",
          "shell.execute_reply": "2024-05-16T08:49:53.513856Z",
          "shell.execute_reply.started": "2024-05-16T08:49:53.513842Z"
        },
        "id": "FU9pnyw9uzhl",
        "trusted": true
      },
      "outputs": [],
      "source": [
        "# Model Compiling\n",
        "from tensorflow.keras.optimizers import Adam\n",
        "learning_rate = 0.001\n",
        "optimizer = Adam(learning_rate=learning_rate)\n",
        "lstm_model.compile(optimizer=optimizer, loss='sparse_categorical_crossentropy', metrics=['accuracy'])"
      ]
    },
    {
      "cell_type": "code",
      "execution_count": 31,
      "metadata": {
        "colab": {
          "base_uri": "https://localhost:8080/"
        },
        "execution": {
          "iopub.status.busy": "2024-05-16T08:49:53.515502Z",
          "iopub.status.idle": "2024-05-16T08:49:53.515833Z",
          "shell.execute_reply": "2024-05-16T08:49:53.515687Z",
          "shell.execute_reply.started": "2024-05-16T08:49:53.515673Z"
        },
        "id": "0doDaCuBu303",
        "outputId": "f4cc756d-bdbb-4784-9550-e411b6ba3bcc",
        "trusted": true
      },
      "outputs": [
        {
          "output_type": "stream",
          "name": "stdout",
          "text": [
            "Model: \"sequential\"\n",
            "_________________________________________________________________\n",
            " Layer (type)                Output Shape              Param #   \n",
            "=================================================================\n",
            " embedding (Embedding)       (None, 100, 100)          7359500   \n",
            "                                                                 \n",
            " lstm (LSTM)                 (None, 100, 128)          117248    \n",
            "                                                                 \n",
            " batch_normalization (Batch  (None, 100, 128)          512       \n",
            " Normalization)                                                  \n",
            "                                                                 \n",
            " dropout (Dropout)           (None, 100, 128)          0         \n",
            "                                                                 \n",
            " lstm_1 (LSTM)               (None, 100, 64)           49408     \n",
            "                                                                 \n",
            " batch_normalization_1 (Bat  (None, 100, 64)           256       \n",
            " chNormalization)                                                \n",
            "                                                                 \n",
            " dropout_1 (Dropout)         (None, 100, 64)           0         \n",
            "                                                                 \n",
            " lstm_2 (LSTM)               (None, 64)                33024     \n",
            "                                                                 \n",
            " batch_normalization_2 (Bat  (None, 64)                256       \n",
            " chNormalization)                                                \n",
            "                                                                 \n",
            " dropout_2 (Dropout)         (None, 64)                0         \n",
            "                                                                 \n",
            " dense (Dense)               (None, 128)               8320      \n",
            "                                                                 \n",
            " batch_normalization_3 (Bat  (None, 128)               512       \n",
            " chNormalization)                                                \n",
            "                                                                 \n",
            " dropout_3 (Dropout)         (None, 128)               0         \n",
            "                                                                 \n",
            " dense_1 (Dense)             (None, 64)                8256      \n",
            "                                                                 \n",
            " batch_normalization_4 (Bat  (None, 64)                256       \n",
            " chNormalization)                                                \n",
            "                                                                 \n",
            " dropout_4 (Dropout)         (None, 64)                0         \n",
            "                                                                 \n",
            " dense_2 (Dense)             (None, 10)                650       \n",
            "                                                                 \n",
            "=================================================================\n",
            "Total params: 7578198 (28.91 MB)\n",
            "Trainable params: 7577302 (28.91 MB)\n",
            "Non-trainable params: 896 (3.50 KB)\n",
            "_________________________________________________________________\n"
          ]
        }
      ],
      "source": [
        "lstm_model.summary()"
      ]
    },
    {
      "cell_type": "code",
      "execution_count": 38,
      "metadata": {
        "colab": {
          "base_uri": "https://localhost:8080/"
        },
        "execution": {
          "iopub.status.busy": "2024-05-16T08:49:53.516864Z",
          "iopub.status.idle": "2024-05-16T08:49:53.517178Z",
          "shell.execute_reply": "2024-05-16T08:49:53.517035Z",
          "shell.execute_reply.started": "2024-05-16T08:49:53.517022Z"
        },
        "id": "ykhdNuFgu-rr",
        "outputId": "1479de8c-9e6c-4b0d-e17f-fe75fdf6214f",
        "trusted": true
      },
      "outputs": [
        {
          "output_type": "stream",
          "name": "stdout",
          "text": [
            "Epoch 1/20\n",
            "2065/2065 [==============================] - 46s 22ms/step - loss: 0.7950 - accuracy: 0.7399 - val_loss: 2.1652 - val_accuracy: 0.4627\n",
            "Epoch 2/20\n",
            "2065/2065 [==============================] - 46s 22ms/step - loss: 0.7710 - accuracy: 0.7457 - val_loss: 2.0385 - val_accuracy: 0.4614\n",
            "Epoch 3/20\n",
            "2065/2065 [==============================] - 47s 23ms/step - loss: 0.7486 - accuracy: 0.7517 - val_loss: 2.1313 - val_accuracy: 0.4652\n",
            "Epoch 4/20\n",
            "2065/2065 [==============================] - 46s 22ms/step - loss: 0.7239 - accuracy: 0.7595 - val_loss: 2.1056 - val_accuracy: 0.4622\n",
            "Epoch 5/20\n",
            "2065/2065 [==============================] - 46s 22ms/step - loss: 0.7083 - accuracy: 0.7627 - val_loss: 2.2666 - val_accuracy: 0.4629\n",
            "Epoch 6/20\n",
            "2065/2065 [==============================] - 46s 22ms/step - loss: 0.6849 - accuracy: 0.7686 - val_loss: 2.2477 - val_accuracy: 0.4576\n",
            "Epoch 7/20\n",
            "2065/2065 [==============================] - 46s 22ms/step - loss: 0.6648 - accuracy: 0.7734 - val_loss: 2.4427 - val_accuracy: 0.4588\n",
            "Epoch 8/20\n",
            "2065/2065 [==============================] - 47s 23ms/step - loss: 0.6575 - accuracy: 0.7753 - val_loss: 2.2872 - val_accuracy: 0.4643\n",
            "Epoch 9/20\n",
            "2065/2065 [==============================] - 47s 23ms/step - loss: 0.6347 - accuracy: 0.7810 - val_loss: 2.2692 - val_accuracy: 0.4597\n",
            "Epoch 10/20\n",
            "2065/2065 [==============================] - 45s 22ms/step - loss: 0.6201 - accuracy: 0.7836 - val_loss: 2.4291 - val_accuracy: 0.4589\n",
            "Epoch 11/20\n",
            "2065/2065 [==============================] - 45s 22ms/step - loss: 0.6081 - accuracy: 0.7871 - val_loss: 2.3824 - val_accuracy: 0.4604\n",
            "Epoch 12/20\n",
            "2065/2065 [==============================] - 46s 22ms/step - loss: 0.5927 - accuracy: 0.7899 - val_loss: 2.5106 - val_accuracy: 0.4564\n",
            "Epoch 13/20\n",
            "2065/2065 [==============================] - 48s 23ms/step - loss: 0.5815 - accuracy: 0.7937 - val_loss: 2.5546 - val_accuracy: 0.4587\n",
            "Epoch 14/20\n",
            "2065/2065 [==============================] - 47s 23ms/step - loss: 0.5699 - accuracy: 0.7956 - val_loss: 2.5380 - val_accuracy: 0.4579\n",
            "Epoch 15/20\n",
            "2065/2065 [==============================] - 50s 24ms/step - loss: 0.5584 - accuracy: 0.7993 - val_loss: 2.7430 - val_accuracy: 0.4564\n",
            "Epoch 16/20\n",
            "2065/2065 [==============================] - 46s 22ms/step - loss: 0.5542 - accuracy: 0.8005 - val_loss: 2.5675 - val_accuracy: 0.4616\n",
            "Epoch 17/20\n",
            "2065/2065 [==============================] - 48s 23ms/step - loss: 0.5394 - accuracy: 0.8030 - val_loss: 2.6959 - val_accuracy: 0.4596\n",
            "Epoch 18/20\n",
            "2065/2065 [==============================] - 50s 24ms/step - loss: 0.5371 - accuracy: 0.8050 - val_loss: 2.7814 - val_accuracy: 0.4535\n",
            "Epoch 19/20\n",
            "2065/2065 [==============================] - 47s 23ms/step - loss: 0.5230 - accuracy: 0.8081 - val_loss: 2.6150 - val_accuracy: 0.4546\n",
            "Epoch 20/20\n",
            "2065/2065 [==============================] - 47s 23ms/step - loss: 0.5176 - accuracy: 0.8089 - val_loss: 2.8384 - val_accuracy: 0.4602\n"
          ]
        }
      ],
      "source": [
        "# Model Training\n",
        "\n",
        "lstm_model_record = lstm_model.fit(X_train,y_train,batch_size=64,epochs=20,validation_split=0.2)"
      ]
    },
    {
      "cell_type": "code",
      "execution_count": 33,
      "metadata": {
        "execution": {
          "iopub.status.busy": "2024-05-16T08:49:53.518332Z",
          "iopub.status.idle": "2024-05-16T08:49:53.518687Z",
          "shell.execute_reply": "2024-05-16T08:49:53.518537Z",
          "shell.execute_reply.started": "2024-05-16T08:49:53.518523Z"
        },
        "id": "n2848V2OupK9",
        "trusted": true,
        "colab": {
          "base_uri": "https://localhost:8080/"
        },
        "outputId": "e56276cf-647d-4292-93a3-22b0f923ff6e"
      },
      "outputs": [
        {
          "output_type": "stream",
          "name": "stdout",
          "text": [
            "1291/1291 [==============================] - 10s 8ms/step - loss: 2.1543 - accuracy: 0.4511\n"
          ]
        }
      ],
      "source": [
        "# Predictions on the Test data\n",
        "\n",
        "score = lstm_model.evaluate(X_test,y_test)"
      ]
    },
    {
      "cell_type": "code",
      "execution_count": 34,
      "metadata": {
        "execution": {
          "iopub.status.busy": "2024-05-16T08:49:53.520100Z",
          "iopub.status.idle": "2024-05-16T08:49:53.520484Z",
          "shell.execute_reply": "2024-05-16T08:49:53.520283Z",
          "shell.execute_reply.started": "2024-05-16T08:49:53.520268Z"
        },
        "id": "F5x4OV-Bupy4",
        "trusted": true,
        "colab": {
          "base_uri": "https://localhost:8080/",
          "height": 927
        },
        "outputId": "e9467026-261f-4f9f-b773-59fbf4d6f4a3"
      },
      "outputs": [
        {
          "output_type": "display_data",
          "data": {
            "text/plain": [
              "<Figure size 640x480 with 1 Axes>"
            ],
            "image/png": "[encoded data removed]"
          },
          "metadata": {}
        },
        {
          "output_type": "display_data",
          "data": {
            "text/plain": [
              "<Figure size 640x480 with 1 Axes>"
            ],
            "image/png": "[encoded data removed]"
          },
          "metadata": {}
        }
      ],
      "source": [
        "# Model Performance Charts\n",
        "\n",
        "plt.plot(lstm_model_record.history[\"accuracy\"])\n",
        "plt.plot(lstm_model_record.history[\"val_accuracy\"])\n",
        "\n",
        "plt.title(\"Model Accuracy\")\n",
        "plt.ylabel(\"Accuracy\")\n",
        "plt.xlabel(\"Epoch\")\n",
        "plt.legend([\"Train\",\"Test\"])\n",
        "plt.show()\n",
        "\n",
        "plt.plot(lstm_model_record.history[\"loss\"])\n",
        "plt.plot(lstm_model_record.history[\"val_loss\"])\n",
        "\n",
        "plt.title(\"Model Loss\")\n",
        "plt.ylabel(\"Loss\")\n",
        "plt.xlabel(\"Epoch\")\n",
        "plt.legend([\"Train\",\"Test\"])\n",
        "plt.show()"
      ]
    },
    {
      "cell_type": "code",
      "execution_count": 35,
      "metadata": {
        "execution": {
          "iopub.status.busy": "2024-05-16T08:49:53.521909Z",
          "iopub.status.idle": "2024-05-16T08:49:53.522213Z",
          "shell.execute_reply": "2024-05-16T08:49:53.522076Z",
          "shell.execute_reply.started": "2024-05-16T08:49:53.522063Z"
        },
        "id": "uvIOWk9zHnP0",
        "trusted": true
      },
      "outputs": [],
      "source": [
        "import plotly.graph_objs as go"
      ]
    },
    {
      "cell_type": "code",
      "execution_count": 36,
      "metadata": {
        "execution": {
          "iopub.status.busy": "2024-05-16T08:49:53.523335Z",
          "iopub.status.idle": "2024-05-16T08:49:53.523667Z",
          "shell.execute_reply": "2024-05-16T08:49:53.523523Z",
          "shell.execute_reply.started": "2024-05-16T08:49:53.523510Z"
        },
        "id": "evNCkSLOwMox",
        "trusted": true
      },
      "outputs": [],
      "source": [
        "def sentiment_analysis_barchart(input_text, model, tokenizer, label_encoder):\n",
        "    # Tokenize and pad input text\n",
        "    sequence = tokenizer.texts_to_sequences([input_text])\n",
        "    sequence_padded = pad_sequences(sequence, maxlen=maxlen)\n",
        "\n",
        "    # Predict probabilities for each label\n",
        "    predictions = model.predict(sequence_padded)[0]\n",
        "\n",
        "    # Decode label predictions\n",
        "    labels = label_encoder.classes_\n",
        "\n",
        "    # Create bar chart\n",
        "    data = [go.Bar(x=labels, y=predictions)]\n",
        "    layout = go.Layout(title='Emotion Prediction Bar Chart', xaxis=dict(title='Emotions'), yaxis=dict(title='Probability'))\n",
        "    fig = go.Figure(data=data, layout=layout)\n",
        "    fig.show()\n"
      ]
    },
    {
      "cell_type": "code",
      "execution_count": 37,
      "metadata": {
        "execution": {
          "iopub.status.busy": "2024-05-16T08:49:53.524476Z",
          "iopub.status.idle": "2024-05-16T08:49:53.524795Z",
          "shell.execute_reply": "2024-05-16T08:49:53.524653Z",
          "shell.execute_reply.started": "2024-05-16T08:49:53.524640Z"
        },
        "id": "4CCXlpB9HNfv",
        "trusted": true,
        "colab": {
          "base_uri": "https://localhost:8080/",
          "height": 559
        },
        "outputId": "aeb0980e-0a89-4de2-b7af-139e8b709e2f"
      },
      "outputs": [
        {
          "output_type": "stream",
          "name": "stdout",
          "text": [
            "1/1 [==============================] - 1s 1s/step\n"
          ]
        },
        {
          "output_type": "display_data",
          "data": {
            "text/html": [
              "<html>\n",
              "<head><meta charset=\"utf-8\" /></head>\n",
              "<body>\n",
              "    <div>            <script src=\"https://cdnjs.cloudflare.com/ajax/libs/mathjax/2.7.5/MathJax.js?config=TeX-AMS-MML_SVG\"></script><script type=\"text/javascript\">if (window.MathJax && window.MathJax.Hub && window.MathJax.Hub.Config) {window.MathJax.Hub.Config({SVG: {font: \"STIX-Web\"}});}</script>                <script type=\"text/javascript\">window.PlotlyConfig = {MathJaxConfig: 'local'};</script>\n",
              "        <script charset=\"utf-8\" src=\"https://cdn.plot.ly/plotly-2.24.1.min.js\"></script>                <div id=\"0b9f2e09-44e8-4f28-a5cf-7f61ed7b6c32\" class=\"plotly-graph-div\" style=\"height:525px; width:100%;\"></div>            <script type=\"text/javascript\">                                    window.PLOTLYENV=window.PLOTLYENV || {};                                    if (document.getElementById(\"0b9f2e09-44e8-4f28-a5cf-7f61ed7b6c32\")) {                    Plotly.newPlot(                        \"0b9f2e09-44e8-4f28-a5cf-7f61ed7b6c32\",                        [{\"x\":[\"anger\",\"excitement\",\"fear\",\"gratitude\",\"happy\",\"hate\",\"love\",\"neutral\",\"sadness\",\"surprise-curiosity\"],\"y\":[0.11390765756368637,0.012587491422891617,0.06401524692773819,0.014482877217233181,0.02069547399878502,0.02860301546752453,0.01541005540639162,0.4785340428352356,0.0400204099714756,0.21174375712871552],\"type\":\"bar\"}],                        {\"title\":{\"text\":\"Emotion Prediction Bar Chart\"},\"xaxis\":{\"title\":{\"text\":\"Emotions\"}},\"yaxis\":{\"title\":{\"text\":\"Probability\"}},\"template\":{\"data\":{\"histogram2dcontour\":[{\"type\":\"histogram2dcontour\",\"colorbar\":{\"outlinewidth\":0,\"ticks\":\"\"},\"colorscale\":[[0.0,\"#0d0887\"],[0.1111111111111111,\"#46039f\"],[0.2222222222222222,\"#7201a8\"],[0.3333333333333333,\"#9c179e\"],[0.4444444444444444,\"#bd3786\"],[0.5555555555555556,\"#d8576b\"],[0.6666666666666666,\"#ed7953\"],[0.7777777777777778,\"#fb9f3a\"],[0.8888888888888888,\"#fdca26\"],[1.0,\"#f0f921\"]]}],\"choropleth\":[{\"type\":\"choropleth\",\"colorbar\":{\"outlinewidth\":0,\"ticks\":\"\"}}],\"histogram2d\":[{\"type\":\"histogram2d\",\"colorbar\":{\"outlinewidth\":0,\"ticks\":\"\"},\"colorscale\":[[0.0,\"#0d0887\"],[0.1111111111111111,\"#46039f\"],[0.2222222222222222,\"#7201a8\"],[0.3333333333333333,\"#9c179e\"],[0.4444444444444444,\"#bd3786\"],[0.5555555555555556,\"#d8576b\"],[0.6666666666666666,\"#ed7953\"],[0.7777777777777778,\"#fb9f3a\"],[0.8888888888888888,\"#fdca26\"],[1.0,\"#f0f921\"]]}],\"heatmap\":[{\"type\":\"heatmap\",\"colorbar\":{\"outlinewidth\":0,\"ticks\":\"\"},\"colorscale\":[[0.0,\"#0d0887\"],[0.1111111111111111,\"#46039f\"],[0.2222222222222222,\"#7201a8\"],[0.3333333333333333,\"#9c179e\"],[0.4444444444444444,\"#bd3786\"],[0.5555555555555556,\"#d8576b\"],[0.6666666666666666,\"#ed7953\"],[0.7777777777777778,\"#fb9f3a\"],[0.8888888888888888,\"#fdca26\"],[1.0,\"#f0f921\"]]}],\"heatmapgl\":[{\"type\":\"heatmapgl\",\"colorbar\":{\"outlinewidth\":0,\"ticks\":\"\"},\"colorscale\":[[0.0,\"#0d0887\"],[0.1111111111111111,\"#46039f\"],[0.2222222222222222,\"#7201a8\"],[0.3333333333333333,\"#9c179e\"],[0.4444444444444444,\"#bd3786\"],[0.5555555555555556,\"#d8576b\"],[0.6666666666666666,\"#ed7953\"],[0.7777777777777778,\"#fb9f3a\"],[0.8888888888888888,\"#fdca26\"],[1.0,\"#f0f921\"]]}],\"contourcarpet\":[{\"type\":\"contourcarpet\",\"colorbar\":{\"outlinewidth\":0,\"ticks\":\"\"}}],\"contour\":[{\"type\":\"contour\",\"colorbar\":{\"outlinewidth\":0,\"ticks\":\"\"},\"colorscale\":[[0.0,\"#0d0887\"],[0.1111111111111111,\"#46039f\"],[0.2222222222222222,\"#7201a8\"],[0.3333333333333333,\"#9c179e\"],[0.4444444444444444,\"#bd3786\"],[0.5555555555555556,\"#d8576b\"],[0.6666666666666666,\"#ed7953\"],[0.7777777777777778,\"#fb9f3a\"],[0.8888888888888888,\"#fdca26\"],[1.0,\"#f0f921\"]]}],\"surface\":[{\"type\":\"surface\",\"colorbar\":{\"outlinewidth\":0,\"ticks\":\"\"},\"colorscale\":[[0.0,\"#0d0887\"],[0.1111111111111111,\"#46039f\"],[0.2222222222222222,\"#7201a8\"],[0.3333333333333333,\"#9c179e\"],[0.4444444444444444,\"#bd3786\"],[0.5555555555555556,\"#d8576b\"],[0.6666666666666666,\"#ed7953\"],[0.7777777777777778,\"#fb9f3a\"],[0.8888888888888888,\"#fdca26\"],[1.0,\"#f0f921\"]]}],\"mesh3d\":[{\"type\":\"mesh3d\",\"colorbar\":{\"outlinewidth\":0,\"ticks\":\"\"}}],\"scatter\":[{\"fillpattern\":{\"fillmode\":\"overlay\",\"size\":10,\"solidity\":0.2},\"type\":\"scatter\"}],\"parcoords\":[{\"type\":\"parcoords\",\"line\":{\"colorbar\":{\"outlinewidth\":0,\"ticks\":\"\"}}}],\"scatterpolargl\":[{\"type\":\"scatterpolargl\",\"marker\":{\"colorbar\":{\"outlinewidth\":0,\"ticks\":\"\"}}}],\"bar\":[{\"error_x\":{\"color\":\"#2a3f5f\"},\"error_y\":{\"color\":\"#2a3f5f\"},\"marker\":{\"line\":{\"color\":\"#E5ECF6\",\"width\":0.5},\"pattern\":{\"fillmode\":\"overlay\",\"size\":10,\"solidity\":0.2}},\"type\":\"bar\"}],\"scattergeo\":[{\"type\":\"scattergeo\",\"marker\":{\"colorbar\":{\"outlinewidth\":0,\"ticks\":\"\"}}}],\"scatterpolar\":[{\"type\":\"scatterpolar\",\"marker\":{\"colorbar\":{\"outlinewidth\":0,\"ticks\":\"\"}}}],\"histogram\":[{\"marker\":{\"pattern\":{\"fillmode\":\"overlay\",\"size\":10,\"solidity\":0.2}},\"type\":\"histogram\"}],\"scattergl\":[{\"type\":\"scattergl\",\"marker\":{\"colorbar\":{\"outlinewidth\":0,\"ticks\":\"\"}}}],\"scatter3d\":[{\"type\":\"scatter3d\",\"line\":{\"colorbar\":{\"outlinewidth\":0,\"ticks\":\"\"}},\"marker\":{\"colorbar\":{\"outlinewidth\":0,\"ticks\":\"\"}}}],\"scattermapbox\":[{\"type\":\"scattermapbox\",\"marker\":{\"colorbar\":{\"outlinewidth\":0,\"ticks\":\"\"}}}],\"scatterternary\":[{\"type\":\"scatterternary\",\"marker\":{\"colorbar\":{\"outlinewidth\":0,\"ticks\":\"\"}}}],\"scattercarpet\":[{\"type\":\"scattercarpet\",\"marker\":{\"colorbar\":{\"outlinewidth\":0,\"ticks\":\"\"}}}],\"carpet\":[{\"aaxis\":{\"endlinecolor\":\"#2a3f5f\",\"gridcolor\":\"white\",\"linecolor\":\"white\",\"minorgridcolor\":\"white\",\"startlinecolor\":\"#2a3f5f\"},\"baxis\":{\"endlinecolor\":\"#2a3f5f\",\"gridcolor\":\"white\",\"linecolor\":\"white\",\"minorgridcolor\":\"white\",\"startlinecolor\":\"#2a3f5f\"},\"type\":\"carpet\"}],\"table\":[{\"cells\":{\"fill\":{\"color\":\"#EBF0F8\"},\"line\":{\"color\":\"white\"}},\"header\":{\"fill\":{\"color\":\"#C8D4E3\"},\"line\":{\"color\":\"white\"}},\"type\":\"table\"}],\"barpolar\":[{\"marker\":{\"line\":{\"color\":\"#E5ECF6\",\"width\":0.5},\"pattern\":{\"fillmode\":\"overlay\",\"size\":10,\"solidity\":0.2}},\"type\":\"barpolar\"}],\"pie\":[{\"automargin\":true,\"type\":\"pie\"}]},\"layout\":{\"autotypenumbers\":\"strict\",\"colorway\":[\"#636efa\",\"#EF553B\",\"#00cc96\",\"#ab63fa\",\"#FFA15A\",\"#19d3f3\",\"#FF6692\",\"#B6E880\",\"#FF97FF\",\"#FECB52\"],\"font\":{\"color\":\"#2a3f5f\"},\"hovermode\":\"closest\",\"hoverlabel\":{\"align\":\"left\"},\"paper_bgcolor\":\"white\",\"plot_bgcolor\":\"#E5ECF6\",\"polar\":{\"bgcolor\":\"#E5ECF6\",\"angularaxis\":{\"gridcolor\":\"white\",\"linecolor\":\"white\",\"ticks\":\"\"},\"radialaxis\":{\"gridcolor\":\"white\",\"linecolor\":\"white\",\"ticks\":\"\"}},\"ternary\":{\"bgcolor\":\"#E5ECF6\",\"aaxis\":{\"gridcolor\":\"white\",\"linecolor\":\"white\",\"ticks\":\"\"},\"baxis\":{\"gridcolor\":\"white\",\"linecolor\":\"white\",\"ticks\":\"\"},\"caxis\":{\"gridcolor\":\"white\",\"linecolor\":\"white\",\"ticks\":\"\"}},\"coloraxis\":{\"colorbar\":{\"outlinewidth\":0,\"ticks\":\"\"}},\"colorscale\":{\"sequential\":[[0.0,\"#0d0887\"],[0.1111111111111111,\"#46039f\"],[0.2222222222222222,\"#7201a8\"],[0.3333333333333333,\"#9c179e\"],[0.4444444444444444,\"#bd3786\"],[0.5555555555555556,\"#d8576b\"],[0.6666666666666666,\"#ed7953\"],[0.7777777777777778,\"#fb9f3a\"],[0.8888888888888888,\"#fdca26\"],[1.0,\"#f0f921\"]],\"sequentialminus\":[[0.0,\"#0d0887\"],[0.1111111111111111,\"#46039f\"],[0.2222222222222222,\"#7201a8\"],[0.3333333333333333,\"#9c179e\"],[0.4444444444444444,\"#bd3786\"],[0.5555555555555556,\"#d8576b\"],[0.6666666666666666,\"#ed7953\"],[0.7777777777777778,\"#fb9f3a\"],[0.8888888888888888,\"#fdca26\"],[1.0,\"#f0f921\"]],\"diverging\":[[0,\"#8e0152\"],[0.1,\"#c51b7d\"],[0.2,\"#de77ae\"],[0.3,\"#f1b6da\"],[0.4,\"#fde0ef\"],[0.5,\"#f7f7f7\"],[0.6,\"#e6f5d0\"],[0.7,\"#b8e186\"],[0.8,\"#7fbc41\"],[0.9,\"#4d9221\"],[1,\"#276419\"]]},\"xaxis\":{\"gridcolor\":\"white\",\"linecolor\":\"white\",\"ticks\":\"\",\"title\":{\"standoff\":15},\"zerolinecolor\":\"white\",\"automargin\":true,\"zerolinewidth\":2},\"yaxis\":{\"gridcolor\":\"white\",\"linecolor\":\"white\",\"ticks\":\"\",\"title\":{\"standoff\":15},\"zerolinecolor\":\"white\",\"automargin\":true,\"zerolinewidth\":2},\"scene\":{\"xaxis\":{\"backgroundcolor\":\"#E5ECF6\",\"gridcolor\":\"white\",\"linecolor\":\"white\",\"showbackground\":true,\"ticks\":\"\",\"zerolinecolor\":\"white\",\"gridwidth\":2},\"yaxis\":{\"backgroundcolor\":\"#E5ECF6\",\"gridcolor\":\"white\",\"linecolor\":\"white\",\"showbackground\":true,\"ticks\":\"\",\"zerolinecolor\":\"white\",\"gridwidth\":2},\"zaxis\":{\"backgroundcolor\":\"#E5ECF6\",\"gridcolor\":\"white\",\"linecolor\":\"white\",\"showbackground\":true,\"ticks\":\"\",\"zerolinecolor\":\"white\",\"gridwidth\":2}},\"shapedefaults\":{\"line\":{\"color\":\"#2a3f5f\"}},\"annotationdefaults\":{\"arrowcolor\":\"#2a3f5f\",\"arrowhead\":0,\"arrowwidth\":1},\"geo\":{\"bgcolor\":\"white\",\"landcolor\":\"#E5ECF6\",\"subunitcolor\":\"white\",\"showland\":true,\"showlakes\":true,\"lakecolor\":\"white\"},\"title\":{\"x\":0.05},\"mapbox\":{\"style\":\"light\"}}}},                        {\"responsive\": true}                    ).then(function(){\n",
              "                            \n",
              "var gd = document.getElementById('0b9f2e09-44e8-4f28-a5cf-7f61ed7b6c32');\n",
              "var x = new MutationObserver(function (mutations, observer) {{\n",
              "        var display = window.getComputedStyle(gd).display;\n",
              "        if (!display || display === 'none') {{\n",
              "            console.log([gd, 'removed!']);\n",
              "            Plotly.purge(gd);\n",
              "            observer.disconnect();\n",
              "        }}\n",
              "}});\n",
              "\n",
              "// Listen for the removal of the full notebook cells\n",
              "var notebookContainer = gd.closest('#notebook-container');\n",
              "if (notebookContainer) {{\n",
              "    x.observe(notebookContainer, {childList: true});\n",
              "}}\n",
              "\n",
              "// Listen for the clearing of the current output cell\n",
              "var outputEl = gd.closest('.output');\n",
              "if (outputEl) {{\n",
              "    x.observe(outputEl, {childList: true});\n",
              "}}\n",
              "\n",
              "                        })                };                            </script>        </div>\n",
              "</body>\n",
              "</html>"
            ]
          },
          "metadata": {}
        }
      ],
      "source": [
        "# Test the function\n",
        "input_text = \"happy for you\"\n",
        "input_text = preprocsses_text(input_text)\n",
        "sentiment_analysis_barchart(input_text, lstm_model, word_tokenizer, label_encoder)"
      ]
    },
    {
      "cell_type": "code",
      "execution_count": null,
      "metadata": {
        "id": "KXg2eYWYHXGp"
      },
      "outputs": [],
      "source": []
    }
  ],
  "metadata": {
    "accelerator": "GPU",
    "colab": {
      "gpuType": "T4",
      "provenance": []
    },
    "kaggle": {
      "accelerator": "nvidiaTeslaT4",
      "dataSources": [
        {
          "datasetId": 4984557,
          "sourceId": 8381867,
          "sourceType": "datasetVersion"
        },
        {
          "datasetId": 5019319,
          "sourceId": 8428922,
          "sourceType": "datasetVersion"
        }
      ],
      "dockerImageVersionId": 30699,
      "isGpuEnabled": true,
      "isInternetEnabled": true,
      "language": "python",
      "sourceType": "notebook"
    },
    "kernelspec": {
      "display_name": "Python 3",
      "language": "python",
      "name": "python3"
    },
    "language_info": {
      "codemirror_mode": {
        "name": "ipython",
        "version": 3
      },
      "file_extension": ".py",
      "mimetype": "text/x-python",
      "name": "python",
      "nbconvert_exporter": "python",
      "pygments_lexer": "ipython3",
      "version": "3.10.13"
    }
  },
  "nbformat": 4,
  "nbformat_minor": 0
}